{
  "nbformat": 4,
  "nbformat_minor": 0,
  "metadata": {
    "colab": {
      "provenance": []
    },
    "kernelspec": {
      "name": "python3",
      "display_name": "Python 3"
    },
    "language_info": {
      "name": "python"
    }
  },
  "cells": [
    {
      "cell_type": "code",
      "execution_count": null,
      "metadata": {
        "colab": {
          "base_uri": "https://localhost:8080/"
        },
        "id": "XU3CeS30L7Lj",
        "outputId": "0e2f9bd8-3a9c-4dff-e51a-0cf89145f213"
      },
      "outputs": [
        {
          "output_type": "stream",
          "name": "stderr",
          "text": [
            "[nltk_data] Downloading package treebank to /root/nltk_data...\n",
            "[nltk_data]   Unzipping corpora/treebank.zip.\n",
            "[nltk_data] Downloading package universal_tagset to /root/nltk_data...\n",
            "[nltk_data]   Unzipping taggers/universal_tagset.zip.\n"
          ]
        },
        {
          "output_type": "stream",
          "name": "stdout",
          "text": [
            "[[('Pierre', 'NOUN'), ('Vinken', 'NOUN'), (',', '.'), ('61', 'NUM'), ('years', 'NOUN'), ('old', 'ADJ'), (',', '.'), ('will', 'VERB'), ('join', 'VERB'), ('the', 'DET'), ('board', 'NOUN'), ('as', 'ADP'), ('a', 'DET'), ('nonexecutive', 'ADJ'), ('director', 'NOUN'), ('Nov.', 'NOUN'), ('29', 'NUM'), ('.', '.')], [('Mr.', 'NOUN'), ('Vinken', 'NOUN'), ('is', 'VERB'), ('chairman', 'NOUN'), ('of', 'ADP'), ('Elsevier', 'NOUN'), ('N.V.', 'NOUN'), (',', '.'), ('the', 'DET'), ('Dutch', 'NOUN'), ('publishing', 'VERB'), ('group', 'NOUN'), ('.', '.')]]\n"
          ]
        }
      ],
      "source": [
        "#Importing libraries\n",
        "import nltk\n",
        "import numpy as np\n",
        "import pandas as pd\n",
        "import random\n",
        "from sklearn.model_selection import train_test_split\n",
        "import pprint , time\n",
        "\n",
        "\n",
        "#download the treebook corpus from nltk\n",
        "nltk.download('treebank')\n",
        "\n",
        "\n",
        "#download the universal tagset from nltk\n",
        "nltk.download('universal_tagset')\n",
        "\n",
        "\n",
        "#reading the Treebank tagged sentences\n",
        "nltk_data = list(nltk.corpus.treebank.tagged_sents(tagset = 'universal'))\n",
        "\n",
        "\n",
        "#print the first two sentences along with tags\n",
        "print(nltk_data[:2])\n"
      ]
    },
    {
      "cell_type": "code",
      "source": [
        "#print each word with its respective tag for first two sentences\n",
        "\n",
        "\n",
        "for sent in nltk_data[:2]:\n",
        "  for tuple in sent:\n",
        "    print(tuple)"
      ],
      "metadata": {
        "colab": {
          "base_uri": "https://localhost:8080/"
        },
        "id": "I80crQ_-NcsC",
        "outputId": "45ffc392-6468-4070-8fd5-d3b38654912f"
      },
      "execution_count": null,
      "outputs": [
        {
          "output_type": "stream",
          "name": "stdout",
          "text": [
            "('Pierre', 'NOUN')\n",
            "('Vinken', 'NOUN')\n",
            "(',', '.')\n",
            "('61', 'NUM')\n",
            "('years', 'NOUN')\n",
            "('old', 'ADJ')\n",
            "(',', '.')\n",
            "('will', 'VERB')\n",
            "('join', 'VERB')\n",
            "('the', 'DET')\n",
            "('board', 'NOUN')\n",
            "('as', 'ADP')\n",
            "('a', 'DET')\n",
            "('nonexecutive', 'ADJ')\n",
            "('director', 'NOUN')\n",
            "('Nov.', 'NOUN')\n",
            "('29', 'NUM')\n",
            "('.', '.')\n",
            "('Mr.', 'NOUN')\n",
            "('Vinken', 'NOUN')\n",
            "('is', 'VERB')\n",
            "('chairman', 'NOUN')\n",
            "('of', 'ADP')\n",
            "('Elsevier', 'NOUN')\n",
            "('N.V.', 'NOUN')\n",
            "(',', '.')\n",
            "('the', 'DET')\n",
            "('Dutch', 'NOUN')\n",
            "('publishing', 'VERB')\n",
            "('group', 'NOUN')\n",
            "('.', '.')\n"
          ]
        }
      ]
    },
    {
      "cell_type": "code",
      "source": [
        "# split data into training and validation set in the ratio 80:20\n",
        "train_set,test_set =train_test_split(nltk_data,train_size=0.80,test_size=0.20,random_state = 101)\n",
        "\n",
        "\n",
        "# create list of train and test tagged words\n",
        "train_tagged_words = [ tup for sent in train_set for tup in sent ]\n",
        "test_tagged_words = [ tup for sent in test_set for tup in sent ]\n",
        "print(len(train_tagged_words))\n",
        "print(len(test_tagged_words))"
      ],
      "metadata": {
        "colab": {
          "base_uri": "https://localhost:8080/"
        },
        "id": "5_4-RyMZNfs5",
        "outputId": "17242cd5-1be5-4b1e-d0f7-c35fc38e4bb9"
      },
      "execution_count": null,
      "outputs": [
        {
          "output_type": "stream",
          "name": "stdout",
          "text": [
            "80310\n",
            "20366\n"
          ]
        }
      ]
    },
    {
      "cell_type": "code",
      "source": [
        "# check some of the tagged words.\n",
        "train_tagged_words[:5]"
      ],
      "metadata": {
        "colab": {
          "base_uri": "https://localhost:8080/"
        },
        "id": "z5Qto134Nhj7",
        "outputId": "e1cc19c0-3c04-4b06-8e28-7c254ef62a0d"
      },
      "execution_count": null,
      "outputs": [
        {
          "output_type": "execute_result",
          "data": {
            "text/plain": [
              "[('Drink', 'NOUN'),\n",
              " ('Carrier', 'NOUN'),\n",
              " ('Competes', 'VERB'),\n",
              " ('With', 'ADP'),\n",
              " ('Cartons', 'NOUN')]"
            ]
          },
          "metadata": {},
          "execution_count": 4
        }
      ]
    },
    {
      "cell_type": "code",
      "source": [
        "#use set datatype to check how many unique tags are present in training data\n",
        "tags = {tag for word,tag in train_tagged_words}\n",
        "print(len(tags))\n",
        "print(tags)\n",
        "\n",
        "# check total words in vocabulary\n",
        "vocab = {word for word,tag in train_tagged_words}"
      ],
      "metadata": {
        "colab": {
          "base_uri": "https://localhost:8080/"
        },
        "id": "HhHrAG2VNjIx",
        "outputId": "5a89b657-27cd-47e2-c508-bf9ebf9c821e"
      },
      "execution_count": null,
      "outputs": [
        {
          "output_type": "stream",
          "name": "stdout",
          "text": [
            "12\n",
            "{'NUM', 'DET', 'ADV', 'ADP', 'CONJ', 'PRON', 'X', '.', 'NOUN', 'ADJ', 'VERB', 'PRT'}\n"
          ]
        }
      ]
    },
    {
      "cell_type": "code",
      "source": [
        "# compute Emission Probability\n",
        "def word_given_tag(word, tag, train_bag = train_tagged_words):\n",
        "    tag_list = [pair for pair in train_bag if pair[1]==tag]\n",
        "    count_tag = len(tag_list)#total number of times the passed tag occurred in train_bag\n",
        "    w_given_tag_list = [pair[0] for pair in tag_list if pair[0]==word]\n",
        "#now calculate the total number of times the passed word occurred as the passed tag.\n",
        "    count_w_given_tag = len(w_given_tag_list)\n",
        "\n",
        "    return (count_w_given_tag, count_tag)\n",
        "\n",
        "\n",
        "# compute  Transition Probability\n",
        "def t2_given_t1(t2, t1, train_bag = train_tagged_words):\n",
        "    tags = [pair[1] for pair in train_bag]\n",
        "    count_t1 = len([t for t in tags if t==t1])\n",
        "    count_t2_t1 = 0\n",
        "    for index in range(len(tags)-1):\n",
        "        if tags[index]==t1 and tags[index+1] == t2:\n",
        "            count_t2_t1 += 1\n",
        "    return (count_t2_t1, count_t1)\n",
        "\n",
        "\n",
        "# creating t x t transition matrix of tags, t= no of tags\n",
        "# Matrix(i, j) represents P(jth tag after the ith tag)\n",
        "\n",
        "tags_matrix = np.zeros((len(tags), len(tags)), dtype='float32')\n",
        "for i, t1 in enumerate(list(tags)):\n",
        "    for j, t2 in enumerate(list(tags)):\n",
        "        tags_matrix[i, j] = t2_given_t1(t2, t1)[0]/t2_given_t1(t2, t1)[1]\n",
        "\n",
        "print(tags_matrix)\n",
        "\n",
        "\n"
      ],
      "metadata": {
        "colab": {
          "base_uri": "https://localhost:8080/"
        },
        "id": "xA2oCJ88Nngq",
        "outputId": "fc7cbf5a-b174-4e30-d355-e77fbbf21901"
      },
      "execution_count": null,
      "outputs": [
        {
          "output_type": "stream",
          "name": "stdout",
          "text": [
            "[[1.84219927e-01 3.57015361e-03 3.57015361e-03 3.74866128e-02\n",
            "  1.42806144e-02 1.42806140e-03 2.02427700e-01 1.19243130e-01\n",
            "  3.51660132e-01 3.53445187e-02 2.07068902e-02 2.60621198e-02]\n",
            " [2.28546783e-02 6.03708485e-03 1.20741697e-02 9.91806854e-03\n",
            "  4.31220367e-04 3.30602261e-03 4.51343954e-02 1.73925534e-02\n",
            "  6.35906279e-01 2.06410810e-01 4.02472317e-02 2.87480245e-04]\n",
            " [2.98681147e-02 7.13731572e-02 8.14584941e-02 1.19472459e-01\n",
            "  6.98215654e-03 1.20248254e-02 2.28859577e-02 1.39255241e-01\n",
            "  3.21955010e-02 1.30721495e-01 3.39022487e-01 1.47401085e-02]\n",
            " [6.32751212e-02 3.20931405e-01 1.45532778e-02 1.69577319e-02\n",
            "  1.01240189e-03 6.96026310e-02 3.45482156e-02 3.87243740e-02\n",
            "  3.23588967e-01 1.07061505e-01 8.47886596e-03 1.26550242e-03]\n",
            " [4.06147093e-02 1.23490669e-01 5.70801310e-02 5.59824370e-02\n",
            "  5.48847427e-04 6.03732169e-02 9.33040585e-03 3.51262353e-02\n",
            "  3.49066973e-01 1.13611415e-01 1.50384188e-01 4.39077942e-03]\n",
            " [6.83371304e-03 9.56719834e-03 3.69020514e-02 2.23234631e-02\n",
            "  5.01138950e-03 6.83371304e-03 8.83826911e-02 4.19134386e-02\n",
            "  2.12756261e-01 7.06150308e-02 4.84738052e-01 1.41230067e-02]\n",
            " [3.07514891e-03 5.68902567e-02 2.57543717e-02 1.42225638e-01\n",
            "  1.03786280e-02 5.41995019e-02 7.57255405e-02 1.60868734e-01\n",
            "  6.16951771e-02 1.76821072e-02 2.06419379e-01 1.85085520e-01]\n",
            " [7.82104954e-02 1.72191828e-01 5.25694676e-02 9.29084867e-02\n",
            "  6.00793920e-02 6.87694475e-02 2.56410260e-02 9.23720598e-02\n",
            "  2.18538776e-01 4.61323895e-02 8.96899477e-02 2.78940029e-03]\n",
            " [9.14395228e-03 1.31063312e-02 1.68945398e-02 1.76826611e-01\n",
            "  4.24540639e-02 4.65906132e-03 2.88252197e-02 2.40094051e-01\n",
            "  2.62344331e-01 1.25838192e-02 1.49133503e-01 4.39345129e-02]\n",
            " [2.17475723e-02 5.24271838e-03 5.24271838e-03 8.05825219e-02\n",
            "  1.68932043e-02 1.94174761e-04 2.09708735e-02 6.60194159e-02\n",
            "  6.96893215e-01 6.33009672e-02 1.14563107e-02 1.14563107e-02]\n",
            " [2.28360966e-02 1.33609578e-01 8.38858187e-02 9.23572779e-02\n",
            "  5.43278083e-03 3.55432779e-02 2.15930015e-01 3.48066315e-02\n",
            "  1.10589318e-01 6.63904250e-02 1.67955801e-01 3.06629837e-02]\n",
            " [5.67514673e-02 1.01369865e-01 9.39334650e-03 1.95694715e-02\n",
            "  2.34833662e-03 1.76125243e-02 1.21330721e-02 4.50097844e-02\n",
            "  2.50489235e-01 8.29745606e-02 4.01174158e-01 1.17416831e-03]]\n"
          ]
        }
      ]
    }
  ]
}